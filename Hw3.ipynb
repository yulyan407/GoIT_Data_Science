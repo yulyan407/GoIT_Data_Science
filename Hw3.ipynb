{
 "cells": [
  {
   "cell_type": "code",
   "execution_count": 1,
   "id": "dfa3a468-4faa-4d71-bb0f-38941e5347b5",
   "metadata": {},
   "outputs": [],
   "source": [
    "import pandas as pd\n",
    "import numpy as np\n",
    "from sklearn.preprocessing import StandardScaler\n",
    "from sklearn.model_selection import train_test_split\n",
    "from sklearn.linear_model import LinearRegression\n",
    "from sklearn.metrics import mean_squared_error"
   ]
  },
  {
   "cell_type": "markdown",
   "id": "53a06055-f17d-4e23-b993-f41df2e1c57e",
   "metadata": {},
   "source": [
    "#### - Напишіть функцію гіпотези лінійної регресії у векторному вигляді;"
   ]
  },
  {
   "cell_type": "code",
   "execution_count": 2,
   "id": "d633a5cd-1c64-4db4-9b4b-379ef5e7f2b4",
   "metadata": {},
   "outputs": [],
   "source": [
    "def hypothesis(theta, X):\n",
    "    \"\"\"\n",
    "    Гіпотеза лінійної регресії у векторному вигляді.\n",
    "\n",
    "    Параметри:\n",
    "    theta : numpy array\n",
    "        Вектор параметрів (ваг).\n",
    "    x : numpy array\n",
    "        Вектор ознак.\n",
    "\n",
    "    Повертає:\n",
    "    float\n",
    "        Прогнозоване значення за гіпотезою.\n",
    "    \"\"\"\n",
    "    return np.dot(X, theta)"
   ]
  },
  {
   "cell_type": "markdown",
   "id": "da0abaf4-0dec-4b5c-b034-b3dcffc2d32c",
   "metadata": {},
   "source": [
    "#### - Cтворіть функцію для обчислення функції втрат у векторному вигляді;"
   ]
  },
  {
   "cell_type": "code",
   "execution_count": 3,
   "id": "0d3e09c3-2247-4bd5-a0ac-c19125532157",
   "metadata": {},
   "outputs": [],
   "source": [
    "def compute_cost(theta, X, y):\n",
    "    \"\"\"\n",
    "    Обчислення функції втрат у векторному вигляді.\n",
    "\n",
    "    Параметри:\n",
    "    theta : numpy array\n",
    "        Вектор параметрів (ваг).\n",
    "    X : numpy array\n",
    "        Матриця ознак (кожен рядок - окремий приклад, кожний стовпчик - окрема ознака).\n",
    "    y : numpy array\n",
    "        Вектор цільових значень.\n",
    "\n",
    "    Повертає:\n",
    "    float\n",
    "        Значення функції втрат.\n",
    "    \"\"\"\n",
    "    m = len(y)  # Кількість прикладів у наборі даних\n",
    "    predictions = hypothesis(theta, X)  # Прогнозовані значення\n",
    "    square_error = (predictions - y) ** 2  # Квадрат помилок\n",
    "    cost = (1 / (2 * m)) * np.sum(square_error)  # Загальна функція втрат\n",
    "    return cost"
   ]
  },
  {
   "cell_type": "markdown",
   "id": "4390e7c3-5b56-4ecb-b46d-bb826aac96d6",
   "metadata": {},
   "source": [
    "#### - Реалізуйте один крок градієнтного спуску;"
   ]
  },
  {
   "cell_type": "code",
   "execution_count": 4,
   "id": "500366fc-10ff-476b-8de5-51897282e851",
   "metadata": {},
   "outputs": [],
   "source": [
    "def gradient_descent_step(theta, X, y, learning_rate):\n",
    "    \"\"\"\n",
    "    Виконує один крок градієнтного спуску.\n",
    "\n",
    "    Параметри:\n",
    "    theta : numpy array\n",
    "        Поточні значення параметрів моделі (ваг).\n",
    "    X : numpy array\n",
    "        Матриця ознак (кожен рядок - окремий приклад, кожний стовпчик - окрема ознака).\n",
    "    y : numpy array\n",
    "        Вектор цільових значень.\n",
    "    learning_rate : float\n",
    "        Крок навчання (швидкість навчання).\n",
    "\n",
    "    Повертає:\n",
    "    numpy array\n",
    "        Оновлені значення параметрів моделі.\n",
    "    \"\"\"\n",
    "    m = len(y)  # Кількість прикладів у наборі даних\n",
    "    predictions = hypothesis(theta, X)  # Прогнозовані значення\n",
    "    errors = predictions - y  # Різниця між прогнозами та справжніми значеннями\n",
    "    gradient = (1 / m) * np.dot(X.T, errors)  # Градієнт функції втрат\n",
    "    theta -= learning_rate * gradient  # Оновлення параметрів\n",
    "    return theta"
   ]
  },
  {
   "cell_type": "markdown",
   "id": "06255144-4aa6-4144-881f-6a9ba6b5315f",
   "metadata": {},
   "source": [
    "#### - Знайдіть найкращі параметри w для датасету прогнозуючу ціну на будинок залежно від площі, кількості ванних кімнат та кількості спалень;"
   ]
  },
  {
   "cell_type": "code",
   "execution_count": 5,
   "id": "c1186558-5d48-4759-89e4-a483d24fbf9e",
   "metadata": {},
   "outputs": [
    {
     "name": "stdout",
     "output_type": "stream",
     "text": [
      "      price  area  bedrooms  bathrooms  stories mainroad guestroom basement  \\\n",
      "0  13300000  7420         4          2        3      yes        no       no   \n",
      "1  12250000  8960         4          4        4      yes        no       no   \n",
      "2  12250000  9960         3          2        2      yes        no      yes   \n",
      "3  12215000  7500         4          2        2      yes        no      yes   \n",
      "4  11410000  7420         4          1        2      yes       yes      yes   \n",
      "\n",
      "  hotwaterheating airconditioning  parking prefarea furnishingstatus  \n",
      "0              no             yes        2      yes        furnished  \n",
      "1              no             yes        3       no        furnished  \n",
      "2              no              no        2      yes   semi-furnished  \n",
      "3              no             yes        3      yes        furnished  \n",
      "4              no             yes        2       no        furnished  \n"
     ]
    }
   ],
   "source": [
    "df = pd.read_csv('Housing.csv')\n",
    "print(df.head(5))"
   ]
  },
  {
   "cell_type": "code",
   "execution_count": 6,
   "id": "df70f449-5d91-4ff6-b234-073369834793",
   "metadata": {},
   "outputs": [
    {
     "name": "stdout",
     "output_type": "stream",
     "text": [
      "Оптимальні параметри w: [4.73598472 0.74923517 0.26672061 0.71257199]\n",
      "Значення функції втрат: 0.7803690039876643\n",
      "Середня квадратична помилка на тестовому наборі: 2.7496785497395297\n"
     ]
    }
   ],
   "source": [
    "# Перетворення ознак та цільового вектору у відповідний формат\n",
    "X = np.array(df[['area','bedrooms','bathrooms']])\n",
    "y = np.array(df['price']) / 1000000\n",
    "\n",
    "# Нормалізуємо дані\n",
    "scaler = StandardScaler()\n",
    "X_scaled = scaler.fit_transform(X)\n",
    "\n",
    "# Додаємо колонку з одиницями для розрахунку зсуву (intercept)\n",
    "X_scaled = np.c_[np.ones(X_scaled.shape[0]), X_scaled]\n",
    "\n",
    "# Розділяємо дані на тренувальний та тестувальний набори\n",
    "X_train, X_test, y_train, y_test = train_test_split(X_scaled, y, test_size=0.2, random_state=42)\n",
    "\n",
    "# Початкові значення параметрів\n",
    "w = np.zeros(X_train.shape[1])  # 4, оскільки ми маємо 3 ознаки (площа, кількість ванних кімнат та кількість спалень) + 1 додатковий стовпець\n",
    "learning_rate = 0.01  # Швидкість навчання\n",
    "num_iterations = 1000  # Кількість ітерацій градієнтного спуску\n",
    "\n",
    "# Градієнтний спуск\n",
    "for _ in range(num_iterations):\n",
    "    # Один крок градієнтного спуску\n",
    "    w = gradient_descent_step(w, X_train, y_train, learning_rate)\n",
    "    \n",
    "# Оцінка параметрів w\n",
    "print(\"Оптимальні параметри w:\", w)\n",
    "\n",
    "# Обчислення функції втрат для оптимальних параметрів\n",
    "cost = compute_cost(w, X_train, y_train)\n",
    "print(\"Значення функції втрат:\", cost)\n",
    "\n",
    "# Перевірка точності на тестовому наборі\n",
    "predictions = np.dot(X_test, w)\n",
    "mse = np.mean((predictions - y_test) ** 2)\n",
    "print(\"Середня квадратична помилка на тестовому наборі:\", mse)"
   ]
  },
  {
   "cell_type": "markdown",
   "id": "9d639dd7-785b-4869-adb7-3b3938b4b825",
   "metadata": {},
   "source": [
    "#### - Знайдіть ці ж параметри за допомогою аналітичного рішення;"
   ]
  },
  {
   "cell_type": "code",
   "execution_count": 7,
   "id": "f9455036-6c16-40e8-a466-9145d329f483",
   "metadata": {},
   "outputs": [
    {
     "name": "stdout",
     "output_type": "stream",
     "text": [
      "Оптимальні параметри w: [4.73630316 0.74902305 0.26560486 0.71401645]\n",
      "Середня квадратична помилка на тестовому наборі: 2.7500404793090523\n"
     ]
    }
   ],
   "source": [
    "def find_parameters_analytically(X, y):\n",
    "    \"\"\"\n",
    "    Знаходить оптимальні параметри моделі лінійної регресії аналітичним рішенням.\n",
    "    \n",
    "    Параметри:\n",
    "        X (numpy.ndarray): Матриця ознак.\n",
    "        y (numpy.ndarray): Вектор цільових значень.\n",
    "    \n",
    "    Повертає:\n",
    "        numpy.ndarray: Вектор параметрів моделі.\n",
    "    \"\"\"\n",
    "    X_transpose = np.transpose(X)\n",
    "    w = np.linalg.inv(X_transpose.dot(X)).dot(X_transpose).dot(y)\n",
    "    return w\n",
    "\n",
    "parameters = find_parameters_analytically(X_train, y_train)\n",
    "print(\"Оптимальні параметри w:\", parameters)\n",
    "\n",
    "# Перевірка точності на тестовому наборі\n",
    "predictions = np.dot(X_test, parameters)\n",
    "mse = np.mean((predictions - y_test) ** 2)\n",
    "print(\"Середня квадратична помилка на тестовому наборі:\", mse)"
   ]
  },
  {
   "cell_type": "code",
   "execution_count": 8,
   "id": "f67cd642-e753-497d-bbc5-95e332ba96fa",
   "metadata": {},
   "outputs": [
    {
     "name": "stdout",
     "output_type": "stream",
     "text": [
      "Оптимальні параметри w: [3.45466570e-04 3.60197650e-01 1.42231966e+00]\n",
      "Середня квадратична помилка на тестовому наборі: 2.7500404793090514\n"
     ]
    }
   ],
   "source": [
    "# Поділ даних на тренувальний та тестовий набори\n",
    "X_train, X_test, y_train, y_test = train_test_split(X, y, test_size=0.2, random_state=42)\n",
    "\n",
    "# Створення та навчання моделі\n",
    "regressor = LinearRegression().fit(X_train, y_train)\n",
    "\n",
    "# Отримання оптимальних параметрів (w)\n",
    "optimal_parameters = regressor.coef_\n",
    "\n",
    "# Отримання прогнозів для тестового набору\n",
    "predictions = regressor.predict(X_test)\n",
    "\n",
    "# Отримання значення функції втрат (середньоквадратична помилка) на тестових даних\n",
    "cost = mean_squared_error(y_test, predictions)\n",
    "\n",
    "print(\"Оптимальні параметри w:\", optimal_parameters)\n",
    "print(\"Середня квадратична помилка на тестовому наборі:\", cost)"
   ]
  },
  {
   "cell_type": "markdown",
   "id": "8b9c5be2-f193-4494-a417-4caa1bd10d3d",
   "metadata": {},
   "source": [
    "#### - Порівняйте отримані результати."
   ]
  },
  {
   "cell_type": "markdown",
   "id": "aa486070-dd20-45c8-963c-57e24bb76d16",
   "metadata": {},
   "source": [
    "В усіх проведених трьох розрахунках середня квадратична помилка на тестовому наборі приблино однакова і дорівнює 2.75. В перших 2х розрахунках з врахуванням параметра зсуву, оптимальні параметри w теж близькі за значенням"
   ]
  },
  {
   "cell_type": "code",
   "execution_count": null,
   "id": "ce3400fd-d1df-47f6-bec1-34ca3048a2a7",
   "metadata": {},
   "outputs": [],
   "source": []
  }
 ],
 "metadata": {
  "kernelspec": {
   "display_name": "Python 3 (ipykernel)",
   "language": "python",
   "name": "python3"
  },
  "language_info": {
   "codemirror_mode": {
    "name": "ipython",
    "version": 3
   },
   "file_extension": ".py",
   "mimetype": "text/x-python",
   "name": "python",
   "nbconvert_exporter": "python",
   "pygments_lexer": "ipython3",
   "version": "3.10.13"
  }
 },
 "nbformat": 4,
 "nbformat_minor": 5
}
