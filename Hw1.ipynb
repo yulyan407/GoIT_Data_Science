{
 "cells": [
  {
   "cell_type": "code",
   "execution_count": 1,
   "id": "48a06620-4e2d-4c9b-8d0d-c6701cd3cf96",
   "metadata": {},
   "outputs": [],
   "source": [
    "import numpy as np"
   ]
  },
  {
   "cell_type": "markdown",
   "id": "68cbbc2b-51c5-47e1-b9bf-dcf15e734f24",
   "metadata": {},
   "source": [
    "### 1. Create a one-dimensional array (vector) with the first 10 natural numbers and output its value."
   ]
  },
  {
   "cell_type": "code",
   "execution_count": 2,
   "id": "cbedace2-f6ed-48b9-a8d8-e14a40e601e6",
   "metadata": {},
   "outputs": [
    {
     "name": "stdout",
     "output_type": "stream",
     "text": [
      "[ 1  2  3  4  5  6  7  8  9 10]\n"
     ]
    }
   ],
   "source": [
    "a = np.array([1, 2, 3, 4, 5, 6, 7, 8, 9, 10], dtype=int)\n",
    "print(a)"
   ]
  },
  {
   "cell_type": "markdown",
   "id": "9d10d8d2-1db2-439f-bc50-df5aa73cd885",
   "metadata": {},
   "source": [
    "### 2. Create a 3x3 two-dimensional array (matrix), fill it with zeros, and output its values."
   ]
  },
  {
   "cell_type": "code",
   "execution_count": 3,
   "id": "fc2fa9a1-865d-4eea-8b4e-2b08ed82afe6",
   "metadata": {},
   "outputs": [
    {
     "name": "stdout",
     "output_type": "stream",
     "text": [
      "[[0 0 0]\n",
      " [0 0 0]\n",
      " [0 0 0]]\n"
     ]
    }
   ],
   "source": [
    "b = np.zeros((3,3), dtype=int)\n",
    "print(b)"
   ]
  },
  {
   "cell_type": "markdown",
   "id": "35468d73-27c3-46ca-a16e-2cac45ecdffa",
   "metadata": {},
   "source": [
    "### 3. Create a 5x5 array, fill it with random integers from 1 to 10, and output its value."
   ]
  },
  {
   "cell_type": "code",
   "execution_count": 4,
   "id": "49c3a168-243f-411f-ac33-2ea3f931da0c",
   "metadata": {},
   "outputs": [
    {
     "name": "stdout",
     "output_type": "stream",
     "text": [
      "[[10 10  2  1  1]\n",
      " [ 7  2  3  2  3]\n",
      " [ 6  5  2  7  7]\n",
      " [ 8  3  6  8  7]\n",
      " [ 5  5  4  2  5]]\n"
     ]
    }
   ],
   "source": [
    "c = np.random.randint(1, 11, size=(5, 5))\n",
    "print(c)"
   ]
  },
  {
   "cell_type": "markdown",
   "id": "4df886dd-2c84-4711-9843-da308ecdf7de",
   "metadata": {},
   "source": [
    "### 4. Create a 4x4 array, fill it with random real numbers in the range 0 to 1, and output its value."
   ]
  },
  {
   "cell_type": "code",
   "execution_count": 5,
   "id": "2693df53-7b3c-4327-8488-935471a447ea",
   "metadata": {},
   "outputs": [
    {
     "name": "stdout",
     "output_type": "stream",
     "text": [
      "[[0.63822372 0.78870187 0.29459239 0.45059004]\n",
      " [0.84238633 0.09328345 0.74038004 0.57383108]\n",
      " [0.38620741 0.67286978 0.91492072 0.92954499]\n",
      " [0.26230732 0.72485646 0.88727043 0.25553495]]\n"
     ]
    }
   ],
   "source": [
    "d = np.random.random((4, 4))\n",
    "print(d)"
   ]
  },
  {
   "cell_type": "markdown",
   "id": "f16156f1-9772-4dff-bd0e-c537f579689d",
   "metadata": {},
   "source": [
    "### 5. Create two one-dimensional arrays of size 5, fill them with random integers in the range 1 to 10, and perform element-by-element addition, subtraction, and multiplication operations on them."
   ]
  },
  {
   "cell_type": "code",
   "execution_count": 6,
   "id": "afdc2d4f-c2f6-41bb-aca7-f9765ec648bd",
   "metadata": {},
   "outputs": [
    {
     "name": "stdout",
     "output_type": "stream",
     "text": [
      "[ 9  2  6  7 10]\n",
      "[6 2 4 6 1]\n",
      "[15  4 10 13 11]\n",
      "[3 0 2 1 9]\n",
      "[54  4 24 42 10]\n"
     ]
    }
   ],
   "source": [
    "e = np.random.randint(1, 11, size=5)\n",
    "f = np.random.randint(1, 11, size=5)\n",
    "print(e)\n",
    "print(f)\n",
    "print(e+f)\n",
    "print(e-f)\n",
    "print(e*f)"
   ]
  },
  {
   "cell_type": "markdown",
   "id": "edf7749a-4b69-4c92-9fba-77a6a43cf66b",
   "metadata": {},
   "source": [
    "### 6. Create two vectors of size 7, fill with random numbers and find their scalar product."
   ]
  },
  {
   "cell_type": "code",
   "execution_count": 7,
   "id": "df637f14-8154-49bf-9807-ec2b71b96f9e",
   "metadata": {},
   "outputs": [
    {
     "name": "stdout",
     "output_type": "stream",
     "text": [
      "[ 1 18 14 17  9 15  2]\n",
      "[15 17 15  6  8  4 15]\n",
      "795\n"
     ]
    }
   ],
   "source": [
    "g = np.random.randint(1, 20, size=7)\n",
    "h = np.random.randint(1, 20, size=7)\n",
    "print(g)\n",
    "print(h)\n",
    "print(np.dot(g, h))"
   ]
  },
  {
   "cell_type": "markdown",
   "id": "df042e32-bac9-4c90-883e-5890187163bd",
   "metadata": {},
   "source": [
    "### 7. Create two matrices of size 2x2 and 2x3, fill them with random integers between 1 and 10, and multiply them together."
   ]
  },
  {
   "cell_type": "code",
   "execution_count": 8,
   "id": "70fbbc4c-cf91-4cee-a60f-b4aa84e55e79",
   "metadata": {},
   "outputs": [
    {
     "name": "stdout",
     "output_type": "stream",
     "text": [
      "[[6 4]\n",
      " [4 9]]\n",
      "[[ 4  3  4]\n",
      " [10  8  8]]\n",
      "[[ 64  50  56]\n",
      " [106  84  88]]\n"
     ]
    }
   ],
   "source": [
    "i = np.random.randint(1, 11, size=(2, 2))\n",
    "j = np.random.randint(1, 11, size=(2, 3))\n",
    "print(i)\n",
    "print(j)\n",
    "print(np.dot(i, j))"
   ]
  },
  {
   "cell_type": "markdown",
   "id": "ffdbfcfe-094e-4225-ad99-4eae2f5c166e",
   "metadata": {},
   "source": [
    "### 8. Create a 3x3 matrix, fill it with random integers from 1 to 10, and find its inverse."
   ]
  },
  {
   "cell_type": "code",
   "execution_count": 9,
   "id": "0e1f526f-76d0-4497-8c5b-e34a368edf0e",
   "metadata": {},
   "outputs": [
    {
     "name": "stdout",
     "output_type": "stream",
     "text": [
      "[[3 5 1]\n",
      " [7 2 3]\n",
      " [1 4 7]]\n",
      "[[-0.01010101  0.15656566 -0.06565657]\n",
      " [ 0.23232323 -0.1010101   0.01010101]\n",
      " [-0.13131313  0.03535354  0.14646465]]\n"
     ]
    }
   ],
   "source": [
    "k = np.random.randint(1, 11, size=(3, 3))\n",
    "print(k)\n",
    "print(np.linalg.inv(k))"
   ]
  },
  {
   "cell_type": "markdown",
   "id": "614e980c-2ee6-4ed6-bf19-67fc3aa1be9a",
   "metadata": {},
   "source": [
    "### 9. Create a 4x4 matrix, fill it with random real numbers between 0 and 1, and transpose it."
   ]
  },
  {
   "cell_type": "code",
   "execution_count": 10,
   "id": "bad7b971-d361-4e0c-ad83-d6f6c983cd92",
   "metadata": {},
   "outputs": [
    {
     "name": "stdout",
     "output_type": "stream",
     "text": [
      "[[0.10780255 0.2680585  0.40913266 0.02591537]\n",
      " [0.774865   0.19616881 0.73136475 0.88190692]\n",
      " [0.55261575 0.32618593 0.22662199 0.88397652]\n",
      " [0.37777927 0.01984496 0.04916404 0.46941633]]\n",
      "[[0.10780255 0.774865   0.55261575 0.37777927]\n",
      " [0.2680585  0.19616881 0.32618593 0.01984496]\n",
      " [0.40913266 0.73136475 0.22662199 0.04916404]\n",
      " [0.02591537 0.88190692 0.88397652 0.46941633]]\n"
     ]
    }
   ],
   "source": [
    "l = np.random.random((4, 4))\n",
    "print(l)\n",
    "print(l.T)"
   ]
  },
  {
   "cell_type": "markdown",
   "id": "c7790421-1003-44c3-be96-0038190ba697",
   "metadata": {},
   "source": [
    "### 10. Create a 3x4 matrix and a vector of size 4, fill them with random integers between 1 and 10, and multiply the matrix by the vector."
   ]
  },
  {
   "cell_type": "code",
   "execution_count": 11,
   "id": "03b63c97-4f67-4257-9284-ca9f874679c4",
   "metadata": {},
   "outputs": [
    {
     "name": "stdout",
     "output_type": "stream",
     "text": [
      "[[ 6 10  6  3]\n",
      " [ 8  2  1  6]\n",
      " [ 6  7  4  4]]\n",
      "[ 1  7 10  7]\n",
      "[157  74 123]\n",
      "[[ 6 70 60 21]\n",
      " [ 8 14 10 42]\n",
      " [ 6 49 40 28]]\n"
     ]
    }
   ],
   "source": [
    "m = np.random.randint(1, 11, size=(3, 4))\n",
    "n = np.random.randint(1, 11, size=4)\n",
    "print(m)\n",
    "print(n)\n",
    "print(np.dot(m, n))\n",
    "print(m*n)"
   ]
  },
  {
   "cell_type": "markdown",
   "id": "0ab7195f-5523-47fa-b22a-e5cf11ba6016",
   "metadata": {},
   "source": [
    "### 11. Create a 2x3 matrix and a vector of size 3, fill them with random real numbers between 0 and 1, and multiply the matrix by the vector."
   ]
  },
  {
   "cell_type": "code",
   "execution_count": 12,
   "id": "298fcdfb-17d7-4994-adaa-f4b38e54c252",
   "metadata": {},
   "outputs": [
    {
     "name": "stdout",
     "output_type": "stream",
     "text": [
      "[[0.41981413 0.412778   0.98796322]\n",
      " [0.89779137 0.14773724 0.91884292]]\n",
      "[0.67917056 0.86272767 0.76897086]\n",
      "[1.40095532 1.4437739 ]\n",
      "[[0.2851254  0.356115   0.75971492]\n",
      " [0.60975347 0.127457   0.70656343]]\n"
     ]
    }
   ],
   "source": [
    "o = np.random.random((2, 3))\n",
    "p = np.random.random(3)\n",
    "print(o)\n",
    "print(p)\n",
    "print(np.dot(o, p))\n",
    "print(o*p)"
   ]
  },
  {
   "cell_type": "markdown",
   "id": "492b0f5a-4519-4c5c-9310-630cdb55016b",
   "metadata": {},
   "source": [
    "### 12. Create two 2x2 matrices, fill them with random integers between 1 and 10, and multiply them elementwise."
   ]
  },
  {
   "cell_type": "code",
   "execution_count": 13,
   "id": "dafa0ecd-3a3f-49a1-98f1-85478a3849a8",
   "metadata": {},
   "outputs": [
    {
     "name": "stdout",
     "output_type": "stream",
     "text": [
      "[[8 6]\n",
      " [6 5]]\n",
      "[[8 3]\n",
      " [7 4]]\n",
      "[[64 18]\n",
      " [42 20]]\n"
     ]
    }
   ],
   "source": [
    "q = np.random.randint(1, 11, size=(2, 2))\n",
    "r = np.random.randint(1, 11, size=(2, 2))\n",
    "print(q)\n",
    "print(r)\n",
    "print(q*r)"
   ]
  },
  {
   "cell_type": "markdown",
   "id": "00d05211-6b82-4819-8b96-d599cb9d4f9d",
   "metadata": {},
   "source": [
    "### 13. Create two 2x2 matrices, fill them with random integers from 1 to 10, and find their product."
   ]
  },
  {
   "cell_type": "code",
   "execution_count": 14,
   "id": "233e52db-6945-489f-9118-8634d17d8310",
   "metadata": {},
   "outputs": [
    {
     "name": "stdout",
     "output_type": "stream",
     "text": [
      "[[3 3]\n",
      " [4 6]]\n",
      "[[2 2]\n",
      " [2 7]]\n",
      "[[12 27]\n",
      " [20 50]]\n"
     ]
    }
   ],
   "source": [
    "s = np.random.randint(1, 11, size=(2, 2))\n",
    "t = np.random.randint(1, 11, size=(2, 2))\n",
    "print(s)\n",
    "print(t)\n",
    "print(np.dot(s, t))"
   ]
  },
  {
   "cell_type": "markdown",
   "id": "fa26b818-5055-4c8a-b534-3a22162e8add",
   "metadata": {},
   "source": [
    "### 14. Create a 5x5 matrix, fill it with random integers from 1 to 100, and find the sum of the matrix elements."
   ]
  },
  {
   "cell_type": "code",
   "execution_count": 15,
   "id": "916689f1-eff1-4e6d-80ea-47d41567f83e",
   "metadata": {},
   "outputs": [
    {
     "name": "stdout",
     "output_type": "stream",
     "text": [
      "[[32 85 99 46 91]\n",
      " [ 2 31 84 77 91]\n",
      " [27 34 28 77 25]\n",
      " [97 67 90 89 89]\n",
      " [72 65 57  6 31]]\n",
      "1492\n"
     ]
    }
   ],
   "source": [
    "u = np.random.randint(1, 101, size=(5, 5))\n",
    "print(u)\n",
    "print(u.sum())"
   ]
  },
  {
   "cell_type": "markdown",
   "id": "eedd4e2b-c542-41dc-8384-98f5cc1c7853",
   "metadata": {},
   "source": [
    "### 15. Create two 4x4 matrices, fill them with random integers between 1 and 10, and find their difference."
   ]
  },
  {
   "cell_type": "code",
   "execution_count": 16,
   "id": "36f93c65-7f89-420e-8cac-335c2e34ffb0",
   "metadata": {},
   "outputs": [
    {
     "name": "stdout",
     "output_type": "stream",
     "text": [
      "[[6 9 5 9]\n",
      " [1 2 9 3]\n",
      " [7 5 7 1]\n",
      " [6 2 3 5]]\n",
      "[[ 2  8 10  9]\n",
      " [ 1  5  2  4]\n",
      " [10  3  2  6]\n",
      " [ 9 10 10  7]]\n",
      "[[ 4  1 -5  0]\n",
      " [ 0 -3  7 -1]\n",
      " [-3  2  5 -5]\n",
      " [-3 -8 -7 -2]]\n"
     ]
    }
   ],
   "source": [
    "w = np.random.randint(1, 11, size=(4, 4))\n",
    "v = np.random.randint(1, 11, size=(4, 4))\n",
    "print(w)\n",
    "print(v)\n",
    "print(w-v)"
   ]
  },
  {
   "cell_type": "markdown",
   "id": "4ba8c2a7-d645-4280-86ae-0f8e75a8a7d2",
   "metadata": {},
   "source": [
    "### 16. Create a 3x3 matrix, fill it with random real numbers in the range 0 to 1, and find a column vector containing the sum of the elements of each row of the matrix."
   ]
  },
  {
   "cell_type": "code",
   "execution_count": 17,
   "id": "641d28dc-22ea-4f4e-bd58-f50d6eed4441",
   "metadata": {},
   "outputs": [
    {
     "name": "stdout",
     "output_type": "stream",
     "text": [
      "[[0.62297556 0.14945167 0.42368175]\n",
      " [0.10238826 0.76631668 0.85460217]\n",
      " [0.38716362 0.43703127 0.61262373]]\n",
      "[[1.19610899]\n",
      " [1.72330711]\n",
      " [1.43681862]]\n"
     ]
    }
   ],
   "source": [
    "x = np.random.random((3, 3))\n",
    "print(x)\n",
    "print(x.sum(axis=1).reshape((3, 1)))"
   ]
  },
  {
   "cell_type": "markdown",
   "id": "dbbad3b3-073d-4a92-9c52-37d455cb9304",
   "metadata": {},
   "source": [
    "### 17. Create a 3x4 matrix of random integers and create a matrix of the squares of those numbers."
   ]
  },
  {
   "cell_type": "code",
   "execution_count": 18,
   "id": "94ba6cdb-17c9-45c2-8a43-b1bd432f194b",
   "metadata": {},
   "outputs": [
    {
     "name": "stdout",
     "output_type": "stream",
     "text": [
      "[[ 6  8  8  1]\n",
      " [ 6  2  6 10]\n",
      " [ 4  4  1  3]]\n",
      "[[ 36  64  64   1]\n",
      " [ 36   4  36 100]\n",
      " [ 16  16   1   9]]\n"
     ]
    }
   ],
   "source": [
    "y = np.random.randint(1, 11, size=(3, 4))\n",
    "print(y)\n",
    "print(pow(y,2))"
   ]
  },
  {
   "cell_type": "markdown",
   "id": "ee31256f-6426-4bdb-a48f-baae7fc6d98a",
   "metadata": {},
   "source": [
    "### 18. Create a vector of size 4, fill it with random integers between 1 and 50, and find the square root vector of those numbers."
   ]
  },
  {
   "cell_type": "code",
   "execution_count": 19,
   "id": "e7d5f0ba-da77-4d85-9459-654915387513",
   "metadata": {},
   "outputs": [
    {
     "name": "stdout",
     "output_type": "stream",
     "text": [
      "[43 36 49 28]\n",
      "[6.55743852 6.         7.         5.29150262]\n"
     ]
    }
   ],
   "source": [
    "z = np.random.randint(1, 51, size=4)\n",
    "print(z)\n",
    "print(pow(z,0.5))"
   ]
  },
  {
   "cell_type": "code",
   "execution_count": null,
   "id": "4c0caa29-6685-4190-a71d-a4d5b53e520a",
   "metadata": {},
   "outputs": [],
   "source": []
  }
 ],
 "metadata": {
  "kernelspec": {
   "display_name": "Python 3 (ipykernel)",
   "language": "python",
   "name": "python3"
  },
  "language_info": {
   "codemirror_mode": {
    "name": "ipython",
    "version": 3
   },
   "file_extension": ".py",
   "mimetype": "text/x-python",
   "name": "python",
   "nbconvert_exporter": "python",
   "pygments_lexer": "ipython3",
   "version": "3.10.13"
  }
 },
 "nbformat": 4,
 "nbformat_minor": 5
}
