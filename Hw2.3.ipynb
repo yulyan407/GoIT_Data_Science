{
 "cells": [
  {
   "cell_type": "code",
   "execution_count": 1,
   "id": "03f426e6-7815-4dfa-ab69-f394e1dce787",
   "metadata": {},
   "outputs": [],
   "source": [
    "import pandas as pd\n",
    "import numpy as np\n",
    "import matplotlib.pyplot as plt\n",
    "import seaborn as sns"
   ]
  },
  {
   "cell_type": "markdown",
   "id": "53ba7b88-99d7-4813-ab86-efbf0b119197",
   "metadata": {},
   "source": [
    "#### - Прочитайте csv файл (використовуйте функцію read_csv)\n",
    "#### - Виведіть перші п'ять рядків (використовується функція head)\n",
    "#### - Виведіть розміри датасету (використовуйте атрибут shape)"
   ]
  },
  {
   "cell_type": "code",
   "execution_count": 2,
   "id": "7b68b33a-2627-40b1-882c-70e4668d351d",
   "metadata": {},
   "outputs": [
    {
     "name": "stdout",
     "output_type": "stream",
     "text": [
      "                                                name  \\\n",
      "0                      10-Day Green Smoothie Cleanse   \n",
      "1                                  11/22/63: A Novel   \n",
      "2            12 Rules for Life: An Antidote to Chaos   \n",
      "3                             1984 (Signet Classics)   \n",
      "4  5,000 Awesome Facts (About Everything!) (Natio...   \n",
      "\n",
      "                     author  user_rating  reviews  price  year        genre  \n",
      "0                  JJ Smith          4.7    17350      8  2016  Non Fiction  \n",
      "1              Stephen King          4.6     2052     22  2011      Fiction  \n",
      "2        Jordan B. Peterson          4.7    18979     15  2018  Non Fiction  \n",
      "3             George Orwell          4.7    21424      6  2017      Fiction  \n",
      "4  National Geographic Kids          4.8     7665     12  2019  Non Fiction  \n",
      "(550, 7)\n",
      "<class 'pandas.core.frame.DataFrame'>\n",
      "RangeIndex: 550 entries, 0 to 549\n",
      "Data columns (total 7 columns):\n",
      " #   Column       Non-Null Count  Dtype  \n",
      "---  ------       --------------  -----  \n",
      " 0   name         550 non-null    object \n",
      " 1   author       550 non-null    object \n",
      " 2   user_rating  550 non-null    float64\n",
      " 3   reviews      550 non-null    int64  \n",
      " 4   price        550 non-null    int64  \n",
      " 5   year         550 non-null    int64  \n",
      " 6   genre        550 non-null    object \n",
      "dtypes: float64(1), int64(3), object(3)\n",
      "memory usage: 30.2+ KB\n"
     ]
    }
   ],
   "source": [
    "df = pd.read_csv('bestsellers with categories.csv')\n",
    "df.columns = ['name', 'author', 'user_rating', 'reviews', 'price', 'year', 'genre']\n",
    "print(df.head(5))\n",
    "print(df.shape)\n",
    "df.info()"
   ]
  },
  {
   "cell_type": "markdown",
   "id": "beaf92ac-cdea-4c0c-b212-0b90259bbbc8",
   "metadata": {},
   "source": [
    "### Відповідь: Датасет зберігає дані про 550 книг"
   ]
  },
  {
   "cell_type": "markdown",
   "id": "d882cff8-c7d6-4e0d-93f7-56ebfb91637d",
   "metadata": {},
   "source": [
    "#### - Перевірте, чи у всіх рядків вистачає даних: виведіть кількість пропусків (na) у кожному зі стовпців (використовуйте функції isna та sum)"
   ]
  },
  {
   "cell_type": "code",
   "execution_count": 3,
   "id": "2ed6854f-8841-4815-a47c-e1ddddc16501",
   "metadata": {},
   "outputs": [
    {
     "name": "stdout",
     "output_type": "stream",
     "text": [
      "name           0\n",
      "author         0\n",
      "user_rating    0\n",
      "reviews        0\n",
      "price          0\n",
      "year           0\n",
      "genre          0\n",
      "dtype: int64\n"
     ]
    }
   ],
   "source": [
    "print(df.isna().sum())"
   ]
  },
  {
   "cell_type": "markdown",
   "id": "94ca73ff-03a4-4587-9b56-b8b54cb2da53",
   "metadata": {},
   "source": [
    "### Відповідь: Пропуски відсутні"
   ]
  },
  {
   "cell_type": "markdown",
   "id": "134a3427-a292-496e-ba70-2dcbb4f95372",
   "metadata": {},
   "source": [
    "#### - Перевірте, які є унікальні значення в колонці genre (використовуйте функцію unique)"
   ]
  },
  {
   "cell_type": "code",
   "execution_count": 4,
   "id": "41ead878-548c-4b3c-8dac-b03636f7fa24",
   "metadata": {},
   "outputs": [
    {
     "name": "stdout",
     "output_type": "stream",
     "text": [
      "['Non Fiction' 'Fiction']\n"
     ]
    }
   ],
   "source": [
    "print(df['genre'].unique())"
   ]
  },
  {
   "cell_type": "markdown",
   "id": "c4c28253-4180-4e92-84e7-f5750dd7d5ae",
   "metadata": {},
   "source": [
    "### Відповідь: Є два унікальні жанри: 'Non Fiction' та 'Fiction'"
   ]
  },
  {
   "cell_type": "markdown",
   "id": "f3c40a6b-e21d-4f0e-8ddd-89c065e8a3c3",
   "metadata": {},
   "source": [
    "#### - Тепер подивіться на розподіл цін: побудуйте діаграму (використовуйте kind='hist')"
   ]
  },
  {
   "cell_type": "code",
   "execution_count": 5,
   "id": "366fcfb1-3e97-44c9-aa02-ae1646e7a03b",
   "metadata": {},
   "outputs": [
    {
     "data": {
      "image/png": "[encoded data removed]",
      "text/plain": [
       "<Figure size 640x480 with 1 Axes>"
      ]
     },
     "metadata": {},
     "output_type": "display_data"
    }
   ],
   "source": [
    "df['price'].plot(kind='hist', bins=30, color='cadetblue')\n",
    "plt.title('Pозподіл цін')\n",
    "plt.xlabel('Ціна')\n",
    "plt.ylabel('Кількість')\n",
    "plt.show()"
   ]
  },
  {
   "cell_type": "markdown",
   "id": "0a86cc15-a502-427b-beaa-9bd1999da710",
   "metadata": {},
   "source": [
    "#### - Визначте, яка ціна у нас максимальна, мінімальна, середня, медіанна (використовуйте функції max, min, mean, median)"
   ]
  },
  {
   "cell_type": "code",
   "execution_count": 6,
   "id": "1f789201-2955-48f0-8f01-36d68f425eaa",
   "metadata": {},
   "outputs": [
    {
     "name": "stdout",
     "output_type": "stream",
     "text": [
      "Максимальна ціна: 105\n",
      "Мінімальна ціна: 0\n",
      "Середня ціна: 13.1\n",
      "Медіанна ціна: 11.0\n"
     ]
    }
   ],
   "source": [
    "max_price = df['price'].max()\n",
    "print(\"Максимальна ціна:\", max_price)\n",
    "\n",
    "min_price = df['price'].min()\n",
    "print(\"Мінімальна ціна:\", min_price)\n",
    "\n",
    "mean_price = df['price'].mean()\n",
    "print(\"Середня ціна:\", mean_price)\n",
    "\n",
    "median_price = df['price'].median()\n",
    "print(\"Медіанна ціна:\", median_price)"
   ]
  },
  {
   "cell_type": "markdown",
   "id": "bc1b82ac-566c-4423-afd4-1156e2bb0ff2",
   "metadata": {},
   "source": [
    "### Відповідь: Максимальна ціна 105\n",
    "### Відповідь: Мінімальна ціна 0\n",
    "### Відповідь: Середня ціна 13.1\n",
    "### Відповідь: Медіанна ціна 11.0"
   ]
  },
  {
   "cell_type": "markdown",
   "id": "3bd1068e-003a-4bfa-ab23-3763804f4248",
   "metadata": {},
   "source": [
    "#### - Який рейтинг у датасеті найвищий?"
   ]
  },
  {
   "cell_type": "code",
   "execution_count": 7,
   "id": "3917e1c3-b7e5-459b-9c4f-dadc6359ef05",
   "metadata": {},
   "outputs": [
    {
     "name": "stdout",
     "output_type": "stream",
     "text": [
      "4.9\n"
     ]
    }
   ],
   "source": [
    "print(df['user_rating'].max())"
   ]
  },
  {
   "cell_type": "markdown",
   "id": "2a712f25-3acc-4b2b-92d2-bc7eb98f0a5f",
   "metadata": {},
   "source": [
    "### Відповідь: 4.9"
   ]
  },
  {
   "cell_type": "markdown",
   "id": "0e412629-445c-4627-a161-8455a1c31f6f",
   "metadata": {},
   "source": [
    "#### - Скільки книг мають такий рейтинг?"
   ]
  },
  {
   "cell_type": "code",
   "execution_count": 8,
   "id": "b4dde788-3bd2-417d-afb6-ea21343d8f83",
   "metadata": {},
   "outputs": [
    {
     "name": "stdout",
     "output_type": "stream",
     "text": [
      "52\n"
     ]
    }
   ],
   "source": [
    "filtered_df = df[df['user_rating'] == 4.9]\n",
    "print(filtered_df.shape[0])"
   ]
  },
  {
   "cell_type": "markdown",
   "id": "7e4cb561-0ba0-421c-8c51-c4d428353776",
   "metadata": {},
   "source": [
    "### Відповідь: 52"
   ]
  },
  {
   "cell_type": "markdown",
   "id": "f1c95d6d-fed8-475f-a985-e22401b412f8",
   "metadata": {},
   "source": [
    "#### - Яка книга має найбільше відгуків?"
   ]
  },
  {
   "cell_type": "code",
   "execution_count": 9,
   "id": "b608428b-c4fb-45a1-8303-b2774307c021",
   "metadata": {},
   "outputs": [
    {
     "name": "stdout",
     "output_type": "stream",
     "text": [
      "                        name       author  user_rating  reviews  price  year  \\\n",
      "534  Where the Crawdads Sing  Delia Owens          4.8    87841     15  2019   \n",
      "\n",
      "       genre  \n",
      "534  Fiction  \n"
     ]
    }
   ],
   "source": [
    "print(df[df['reviews'] == df['reviews'].max()])"
   ]
  },
  {
   "cell_type": "markdown",
   "id": "e9f5a558-a411-4e35-a6c0-b7c8f98f21ad",
   "metadata": {},
   "source": [
    "### Відповідь: Найбільше відгуків має книга \"Where the Crawdads Sing\", Delia Owens"
   ]
  },
  {
   "cell_type": "markdown",
   "id": "6bf63845-65ce-43c8-b8a2-c611651001ff",
   "metadata": {},
   "source": [
    "#### - З тих книг, що потрапили до Топ-50 у 2015 році, яка книга найдорожча (можна використати проміжний датафрейм)?"
   ]
  },
  {
   "cell_type": "code",
   "execution_count": 10,
   "id": "5c9f7a3d-2ece-495b-9bdf-c5d6481324b2",
   "metadata": {},
   "outputs": [
    {
     "name": "stdout",
     "output_type": "stream",
     "text": [
      "                                                  name  \\\n",
      "277  Publication Manual of the American Psychologic...   \n",
      "\n",
      "                                 author  user_rating  reviews  price  year  \\\n",
      "277  American Psychological Association          4.5     8580     46  2015   \n",
      "\n",
      "           genre  \n",
      "277  Non Fiction  \n"
     ]
    }
   ],
   "source": [
    "df_2015 = df[df['year'] == 2015]\n",
    "print(df_2015[df_2015['price'] == df_2015['price'].max()])"
   ]
  },
  {
   "cell_type": "markdown",
   "id": "3aabe01d-3c8e-41d0-8050-13259f5d618a",
   "metadata": {},
   "source": [
    "### Відповідь: З тих книг, що потрапили до Топ-50 у 2015 році, найдорожча книга \"Publication Manual of the American Psychologic\""
   ]
  },
  {
   "cell_type": "markdown",
   "id": "a5afb982-8f11-4136-91e6-ad355921ee93",
   "metadata": {},
   "source": [
    "#### - Скільки книг жанру Fiction потрапили до Топ-50 у 2010 році (використовуйте &)?"
   ]
  },
  {
   "cell_type": "code",
   "execution_count": 11,
   "id": "eba1589d-77cd-4a82-ace2-6c2552b40faa",
   "metadata": {},
   "outputs": [
    {
     "name": "stdout",
     "output_type": "stream",
     "text": [
      "(20, 7)\n"
     ]
    }
   ],
   "source": [
    "print(df[(df['year'] == 2010) & (df['genre'] == 'Fiction')].shape)"
   ]
  },
  {
   "cell_type": "markdown",
   "id": "cd17cc92-7696-4242-bdf0-7c6a2ee2e221",
   "metadata": {},
   "source": [
    "### Відповідь: 20 книг жанру Fiction потрапили до Топ-50 у 2010 році"
   ]
  },
  {
   "cell_type": "markdown",
   "id": "db33e54f-936b-4445-8832-606f16ff1f00",
   "metadata": {},
   "source": [
    "#### - Скільки книг з рейтингом 4.9 потрапило до рейтингу у 2010 та 2011 роках (використовуйте | або функцію isin)?"
   ]
  },
  {
   "cell_type": "code",
   "execution_count": 12,
   "id": "1c795355-0264-4319-86b1-b1891411e0e9",
   "metadata": {},
   "outputs": [
    {
     "name": "stdout",
     "output_type": "stream",
     "text": [
      "(1, 7)\n"
     ]
    }
   ],
   "source": [
    "print(df[(df['year'].isin([2010, 2011])) & (df['user_rating'] == 4.9)].shape)"
   ]
  },
  {
   "cell_type": "markdown",
   "id": "258e7781-46b0-4781-bc66-959f636ec1db",
   "metadata": {},
   "source": [
    "### Відповідь: З рейтингом 4.9 до рейтингу у 2010 та 2011 роках потрапила 1 книга"
   ]
  },
  {
   "cell_type": "markdown",
   "id": "be791c06-4435-4834-a10f-ae4ebf006500",
   "metadata": {},
   "source": [
    "#### - Відсортуйте за зростанням ціни всі книги, які потрапили до рейтингу в 2015 році і коштують дешевше за 8 доларів (використовуйте функцію sort_values)."
   ]
  },
  {
   "cell_type": "code",
   "execution_count": 13,
   "id": "b2908796-c6ec-460e-a6c9-fe6caa5942fd",
   "metadata": {},
   "outputs": [
    {
     "name": "stdout",
     "output_type": "stream",
     "text": [
      "                                                  name              author  \\\n",
      "507                              To Kill a Mockingbird          Harper Lee   \n",
      "210                      Laugh-Out-Loud Jokes for Kids         Rob Elliott   \n",
      "206                         Knock-Knock Jokes for Kids         Rob Elliott   \n",
      "111                                    First 100 Words        Roger Priddy   \n",
      "123                               Giraffes Can't Dance       Giles Andreae   \n",
      "54   Creative Haven Creative Cats Coloring Book (Ad...     Marjorie Sarnat   \n",
      "63                      Dear Zoo: A Lift-the-Flap Book        Rod Campbell   \n",
      "89   Dover Creative Haven Art Nouveau Animal Design...         Marty Noble   \n",
      "478                        The Very Hungry Caterpillar          Eric Carle   \n",
      "201  Killing Reagan: The Violent Assault That Chang...       Bill O'Reilly   \n",
      "28                        Baby Touch and Feel: Animals                  DK   \n",
      "224                                   Love You Forever       Robert Munsch   \n",
      "55   Creative Haven Owls Coloring Book (Adult Color...     Marjorie Sarnat   \n",
      "17      Adult Coloring Book: Stress Relieving Patterns  Blue Star Coloring   \n",
      "376  The Four Agreements: A Practical Guide to Pers...     Don Miguel Ruiz   \n",
      "16   Adult Coloring Book: Stress Relieving Animal D...  Blue Star Coloring   \n",
      "253              Old School (Diary of a Wimpy Kid #10)         Jeff Kinney   \n",
      "\n",
      "     user_rating  reviews  price  year        genre  \n",
      "507          4.8    26234      0  2015      Fiction  \n",
      "210          4.6     6990      4  2015  Non Fiction  \n",
      "206          4.5     3673      4  2015  Non Fiction  \n",
      "111          4.7    17323      4  2015  Non Fiction  \n",
      "123          4.8    14038      4  2015      Fiction  \n",
      "54           4.8     4022      4  2015  Non Fiction  \n",
      "63           4.8    10922      5  2015      Fiction  \n",
      "89           4.6     2134      5  2015  Non Fiction  \n",
      "478          4.9    19546      5  2015      Fiction  \n",
      "201          4.6     5235      5  2015  Non Fiction  \n",
      "28           4.6     5360      5  2015  Non Fiction  \n",
      "224          4.8    18613      5  2015      Fiction  \n",
      "55           4.8     3871      5  2015  Non Fiction  \n",
      "17           4.4     2951      6  2015  Non Fiction  \n",
      "376          4.7    23308      6  2015  Non Fiction  \n",
      "16           4.6     2925      6  2015  Non Fiction  \n",
      "253          4.8     6169      7  2015      Fiction  \n"
     ]
    }
   ],
   "source": [
    "print(df[(df['year'] == 2015) & (df['price'] < 8)].sort_values(by='price'))"
   ]
  },
  {
   "cell_type": "markdown",
   "id": "646e523b-959c-4f8f-b086-59f839d36b8e",
   "metadata": {},
   "source": [
    "#### - Яка книга остання у відсортованому списку?"
   ]
  },
  {
   "cell_type": "code",
   "execution_count": 14,
   "id": "09f5058d-4319-4cb8-ac8f-b8b59ec5c948",
   "metadata": {},
   "outputs": [
    {
     "name": "stdout",
     "output_type": "stream",
     "text": [
      "name           Old School (Diary of a Wimpy Kid #10)\n",
      "author                                   Jeff Kinney\n",
      "user_rating                                      4.8\n",
      "reviews                                         6169\n",
      "price                                              7\n",
      "year                                            2015\n",
      "genre                                        Fiction\n",
      "Name: 253, dtype: object\n"
     ]
    }
   ],
   "source": [
    "print(df[(df['year'] == 2015) & (df['price'] < 8)].sort_values(by='price').iloc[-1])"
   ]
  },
  {
   "cell_type": "markdown",
   "id": "f17e889b-b3b9-4aad-ab84-907c06dd8cd8",
   "metadata": {},
   "source": [
    "### Відповідь: Остання у відсортованому списку книга \"Old School (Diary of a Wimpy Kid #10)\", Jeff Kinney"
   ]
  },
  {
   "cell_type": "markdown",
   "id": "f7c7e3a3-3504-45b8-8b3d-26c99e0aa06a",
   "metadata": {},
   "source": [
    "#### - Знайдіть максимальну та мінімальну ціни для кожного з жанрів (використовуйте функції groupby та agg, для підрахунку мінімальних та максимальних значень використовуйте max та min)"
   ]
  },
  {
   "cell_type": "code",
   "execution_count": 15,
   "id": "d157b0d8-4bae-4e49-9abc-7ead5cffd3db",
   "metadata": {},
   "outputs": [
    {
     "name": "stdout",
     "output_type": "stream",
     "text": [
      "            price     \n",
      "              min  max\n",
      "genre                 \n",
      "Fiction         0   82\n",
      "Non Fiction     0  105\n"
     ]
    }
   ],
   "source": [
    "print(df.groupby('genre').agg({'price': ['min', 'max']}))"
   ]
  },
  {
   "cell_type": "markdown",
   "id": "253a57da-c750-40b5-83e2-210883ff6d78",
   "metadata": {},
   "source": [
    "### Відповідь: Максимальна ціна для жанру Fiction: 82\n",
    "### Відповідь: Мінімальна ціна для жанру Fiction: 0\n",
    "### Відповідь: Максимальна ціна для жанру Non Fiction: 105\n",
    "### Відповідь: Мінімальна ціна для жанру Non Fiction: 0"
   ]
  },
  {
   "cell_type": "markdown",
   "id": "83d84934-565b-4350-9e6d-fafc9a8c7332",
   "metadata": {},
   "source": [
    "#### - Cтворіть новий датафрейм, який вміщатиме кількість книг для кожного з авторів (використовуйте функції groupby та agg, для підрахунку кількості використовуйте count)."
   ]
  },
  {
   "cell_type": "code",
   "execution_count": 16,
   "id": "c83253f4-e743-4a32-b72b-910f3782ff6a",
   "metadata": {},
   "outputs": [
    {
     "name": "stdout",
     "output_type": "stream",
     "text": [
      "(248, 2)\n",
      "author           Jeff Kinney\n",
      "name    count             12\n",
      "Name: 120, dtype: object\n"
     ]
    }
   ],
   "source": [
    "agg_data_1 = df.groupby('author').agg({'name': ['count']}).reset_index()\n",
    "print(agg_data_1.shape)\n",
    "print(agg_data_1.sort_values(by=('name', 'count')).iloc[-1])"
   ]
  },
  {
   "cell_type": "markdown",
   "id": "4bbd2926-edf9-4992-88ac-5c6d9e1a179d",
   "metadata": {},
   "source": [
    "### Якої розмірності вийшла таблиця? Відповідь: 248 rows x 2 columns\n",
    "### Який автор має найбільше книг? Відповідь: Jeff Kinney\n",
    "### Скільки книг цього автора? Відповідь: 12"
   ]
  },
  {
   "cell_type": "markdown",
   "id": "e0217987-6ada-4851-8b17-8088020b6d01",
   "metadata": {},
   "source": [
    "#### - Cтворіть другий датафрейм, який буде вміщати середній рейтинг для кожного автора (використовуйте функції groupby та agg, для підрахунку середнього значення використовуйте mean)."
   ]
  },
  {
   "cell_type": "code",
   "execution_count": 17,
   "id": "3defaacc-29a0-41d0-b23c-f893480b2fc7",
   "metadata": {},
   "outputs": [
    {
     "name": "stdout",
     "output_type": "stream",
     "text": [
      "                         author user_rating\n",
      "                                       mean\n",
      "0              Abraham Verghese        4.60\n",
      "1                Adam Gasiewski        4.40\n",
      "2                 Adam Mansbach        4.80\n",
      "3                     Adir Levy        4.80\n",
      "4    Admiral William H. McRaven        4.70\n",
      "..                          ...         ...\n",
      "243             Walter Isaacson        4.57\n",
      "244               William Davis        4.40\n",
      "245            William P. Young        4.60\n",
      "246            Wizards RPG Team        4.80\n",
      "247                Zhi Gang Sha        4.60\n",
      "\n",
      "[248 rows x 2 columns]\n",
      "author               Donna Tartt\n",
      "user_rating  mean            3.9\n",
      "Name: 71, dtype: object\n"
     ]
    }
   ],
   "source": [
    "agg_data_2 = df.groupby('author').agg({'user_rating': ['mean']}).reset_index().round(2)\n",
    "print(agg_data_2)\n",
    "print(agg_data_2.sort_values(by=('user_rating', 'mean')).iloc[0])"
   ]
  },
  {
   "cell_type": "markdown",
   "id": "b5434dc8-4419-4bcf-baf8-ba33454f2dd7",
   "metadata": {},
   "source": [
    "### У якого автора середній рейтинг мінімальний? Відповідь: Donna Tartt\n",
    "### Який у цього автора середній рейтинг? Відповідь: 3.9"
   ]
  },
  {
   "cell_type": "markdown",
   "id": "fe78b70a-a913-474f-9a03-2129559fb9cd",
   "metadata": {},
   "source": [
    "#### - З'єднайте останні два датафрейми так, щоб для кожного автора було видно кількість книг та середній рейтинг (Використовуйте функцію concat з параметром axis=1). Збережіть результат у змінну"
   ]
  },
  {
   "cell_type": "code",
   "execution_count": 18,
   "id": "ea807728-4ba0-41d9-950c-53414701c0b1",
   "metadata": {},
   "outputs": [
    {
     "name": "stdout",
     "output_type": "stream",
     "text": [
      "                         author  name user_rating\n",
      "                                count        mean\n",
      "0              Abraham Verghese     2        4.60\n",
      "1                Adam Gasiewski     1        4.40\n",
      "2                 Adam Mansbach     1        4.80\n",
      "3                     Adir Levy     1        4.80\n",
      "4    Admiral William H. McRaven     1        4.70\n",
      "..                          ...   ...         ...\n",
      "243             Walter Isaacson     3        4.57\n",
      "244               William Davis     2        4.40\n",
      "245            William P. Young     2        4.60\n",
      "246            Wizards RPG Team     3        4.80\n",
      "247                Zhi Gang Sha     2        4.60\n",
      "\n",
      "[248 rows x 3 columns]\n"
     ]
    }
   ],
   "source": [
    "result_data = pd.concat([agg_data_1.set_index(\"author\"), agg_data_2.set_index(\"author\")], axis=1).reset_index()\n",
    "print(result_data)"
   ]
  },
  {
   "cell_type": "markdown",
   "id": "40322290-668b-4cf3-b88e-e9bea2b6ed3c",
   "metadata": {},
   "source": [
    "#### - Відсортуйте датафрейм за зростаючою кількістю книг та зростаючим рейтингом (використовуйте функцію sort_values)"
   ]
  },
  {
   "cell_type": "code",
   "execution_count": 19,
   "id": "02f3fcaf-4637-462d-a3ae-196568551ec3",
   "metadata": {},
   "outputs": [
    {
     "name": "stdout",
     "output_type": "stream",
     "text": [
      "                                 author  name user_rating\n",
      "                                        count        mean\n",
      "171                      Muriel Barbery     1        4.00\n",
      "43                         Chris Cleave     1        4.10\n",
      "109                   Ian K. Smith M.D.     1        4.10\n",
      "186                        Pierre Dukan     1        4.10\n",
      "81                     Elizabeth Strout     1        4.20\n",
      "..                                  ...   ...         ...\n",
      "11   American Psychological Association    10        4.50\n",
      "226                     Suzanne Collins    11        4.66\n",
      "92                         Gary Chapman    11        4.74\n",
      "197                        Rick Riordan    11        4.77\n",
      "120                         Jeff Kinney    12        4.80\n",
      "\n",
      "[248 rows x 3 columns]\n"
     ]
    }
   ],
   "source": [
    "print(result_data.sort_values(by=[('name', 'count'), ('user_rating', 'mean')]))"
   ]
  },
  {
   "cell_type": "markdown",
   "id": "49abced4-ac02-47ab-b5d1-c344b98d3ab2",
   "metadata": {},
   "source": [
    "### Який автор перший у списку? Відповідь: Muriel Barbery"
   ]
  },
  {
   "cell_type": "code",
   "execution_count": 20,
   "id": "d38ed001-5e8a-44af-bf1d-fcc652df54df",
   "metadata": {},
   "outputs": [
    {
     "data": {
      "image/png": "[encoded data removed]",
      "text/plain": [
       "<Figure size 1200x600 with 1 Axes>"
      ]
     },
     "metadata": {},
     "output_type": "display_data"
    }
   ],
   "source": [
    "plt.figure(figsize=(12, 6))\n",
    "ax = sns.histplot(data=df, x='user_rating', bins=30, kde=True, color='cadetblue')\n",
    "plt.title('Розподіл оцінок користувачів')\n",
    "plt.xlabel('Оцінка користувача')\n",
    "plt.ylabel('Кількість книг')\n",
    "plt.show()"
   ]
  },
  {
   "cell_type": "code",
   "execution_count": 21,
   "id": "293fb63a-2cef-4647-86cb-9d2ee96ba5d0",
   "metadata": {},
   "outputs": [
    {
     "data": {
      "image/png": "[encoded data removed]",
      "text/plain": [
       "<Figure size 1200x600 with 1 Axes>"
      ]
     },
     "metadata": {},
     "output_type": "display_data"
    }
   ],
   "source": [
    "plt.figure(figsize=(12, 6))\n",
    "palette = sns.color_palette(\"mako_r\", 2)\n",
    "ax = sns.boxenplot(data=df, x='user_rating', y='price', hue='genre', palette=palette)\n",
    "plt.title('Зв\\'язок між рейтингом та ціною')\n",
    "plt.xlabel('Оцінка користувача')\n",
    "plt.ylabel('Ціна')\n",
    "plt.legend(title='Жанр')\n",
    "plt.show()"
   ]
  },
  {
   "cell_type": "code",
   "execution_count": 22,
   "id": "50844e4c-0b23-4372-bb53-c355ca65a4d1",
   "metadata": {},
   "outputs": [
    {
     "data": {
      "image/png": "[encoded data removed]",
      "text/plain": [
       "<Figure size 1200x600 with 1 Axes>"
      ]
     },
     "metadata": {},
     "output_type": "display_data"
    }
   ],
   "source": [
    "plt.figure(figsize=(12, 6))\n",
    "palette = sns.color_palette(\"mako_r\", 2)\n",
    "ax = sns.countplot(data=df, x='year', palette=palette, hue='genre')\n",
    "plt.title('Розподіл книг за жанром та роком видання')\n",
    "plt.xlabel('Рік видання')\n",
    "plt.ylabel('Кількість книг')\n",
    "plt.legend(title='Жанр')\n",
    "plt.show()"
   ]
  },
  {
   "cell_type": "code",
   "execution_count": null,
   "id": "1942096d-2f4d-4b8d-a1d9-475f3123e7e8",
   "metadata": {},
   "outputs": [],
   "source": []
  }
 ],
 "metadata": {
  "kernelspec": {
   "display_name": "Python 3 (ipykernel)",
   "language": "python",
   "name": "python3"
  },
  "language_info": {
   "codemirror_mode": {
    "name": "ipython",
    "version": 3
   },
   "file_extension": ".py",
   "mimetype": "text/x-python",
   "name": "python",
   "nbconvert_exporter": "python",
   "pygments_lexer": "ipython3",
   "version": "3.10.13"
  }
 },
 "nbformat": 4,
 "nbformat_minor": 5
}
