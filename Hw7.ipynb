{
 "cells": [
  {
   "cell_type": "markdown",
   "id": "6fcf83d8-6ca8-47c7-9f22-09c1e67a6c2a",
   "metadata": {},
   "source": [
    "# Recommendation systems"
   ]
  },
  {
   "cell_type": "markdown",
   "id": "b1d76c6d-df98-4aae-94e7-1b71beb04c22",
   "metadata": {},
   "source": [
    "### Import of necessary packages"
   ]
  },
  {
   "cell_type": "code",
   "execution_count": 1,
   "id": "d337fe9d-6b6e-465f-94c1-5f1e7c9fafa2",
   "metadata": {},
   "outputs": [],
   "source": [
    "import pandas as pd\n",
    "import numpy as np\n",
    "from surprise.model_selection import train_test_split, cross_validate, GridSearchCV\n",
    "import matplotlib.pyplot as plt\n",
    "from surprise import accuracy, Dataset\n",
    "from surprise import SVD, SVDpp, NMF\n",
    "from scipy.io import loadmat"
   ]
  },
  {
   "cell_type": "markdown",
   "id": "2e4166bd-b4a2-487c-bde1-7de21b0e23c0",
   "metadata": {},
   "source": [
    "### Data loading"
   ]
  },
  {
   "cell_type": "code",
   "execution_count": 2,
   "id": "cf838ef7-f290-4943-a9ed-f76d7729f43d",
   "metadata": {},
   "outputs": [],
   "source": [
    "data = Dataset.load_builtin(name='ml-100k', prompt=False)"
   ]
  },
  {
   "cell_type": "code",
   "execution_count": 3,
   "id": "34ae5f0a-5c32-40d2-8ca1-f1fa7e6e254d",
   "metadata": {},
   "outputs": [
    {
     "data": {
      "text/html": [
       "<div>\n",
       "<style scoped>\n",
       "    .dataframe tbody tr th:only-of-type {\n",
       "        vertical-align: middle;\n",
       "    }\n",
       "\n",
       "    .dataframe tbody tr th {\n",
       "        vertical-align: top;\n",
       "    }\n",
       "\n",
       "    .dataframe thead th {\n",
       "        text-align: right;\n",
       "    }\n",
       "</style>\n",
       "<table border=\"1\" class=\"dataframe\">\n",
       "  <thead>\n",
       "    <tr style=\"text-align: right;\">\n",
       "      <th></th>\n",
       "      <th>user_id</th>\n",
       "      <th>item_id</th>\n",
       "      <th>rating</th>\n",
       "      <th>unix_timestamp</th>\n",
       "    </tr>\n",
       "  </thead>\n",
       "  <tbody>\n",
       "    <tr>\n",
       "      <th>0</th>\n",
       "      <td>196</td>\n",
       "      <td>242</td>\n",
       "      <td>3.0</td>\n",
       "      <td>881250949</td>\n",
       "    </tr>\n",
       "    <tr>\n",
       "      <th>1</th>\n",
       "      <td>186</td>\n",
       "      <td>302</td>\n",
       "      <td>3.0</td>\n",
       "      <td>891717742</td>\n",
       "    </tr>\n",
       "    <tr>\n",
       "      <th>2</th>\n",
       "      <td>22</td>\n",
       "      <td>377</td>\n",
       "      <td>1.0</td>\n",
       "      <td>878887116</td>\n",
       "    </tr>\n",
       "    <tr>\n",
       "      <th>3</th>\n",
       "      <td>244</td>\n",
       "      <td>51</td>\n",
       "      <td>2.0</td>\n",
       "      <td>880606923</td>\n",
       "    </tr>\n",
       "    <tr>\n",
       "      <th>4</th>\n",
       "      <td>166</td>\n",
       "      <td>346</td>\n",
       "      <td>1.0</td>\n",
       "      <td>886397596</td>\n",
       "    </tr>\n",
       "  </tbody>\n",
       "</table>\n",
       "</div>"
      ],
      "text/plain": [
       "  user_id item_id  rating unix_timestamp\n",
       "0     196     242     3.0      881250949\n",
       "1     186     302     3.0      891717742\n",
       "2      22     377     1.0      878887116\n",
       "3     244      51     2.0      880606923\n",
       "4     166     346     1.0      886397596"
      ]
     },
     "execution_count": 3,
     "metadata": {},
     "output_type": "execute_result"
    }
   ],
   "source": [
    "df = pd.DataFrame(data.raw_ratings, columns=[\"user_id\", \"item_id\", \"rating\", \"unix_timestamp\"])\n",
    "df.head()"
   ]
  },
  {
   "cell_type": "code",
   "execution_count": 4,
   "id": "9b876a44-e0e0-4427-8b36-80b20b257545",
   "metadata": {},
   "outputs": [
    {
     "data": {
      "text/html": [
       "<div>\n",
       "<style scoped>\n",
       "    .dataframe tbody tr th:only-of-type {\n",
       "        vertical-align: middle;\n",
       "    }\n",
       "\n",
       "    .dataframe tbody tr th {\n",
       "        vertical-align: top;\n",
       "    }\n",
       "\n",
       "    .dataframe thead th {\n",
       "        text-align: right;\n",
       "    }\n",
       "</style>\n",
       "<table border=\"1\" class=\"dataframe\">\n",
       "  <thead>\n",
       "    <tr style=\"text-align: right;\">\n",
       "      <th></th>\n",
       "      <th>rating</th>\n",
       "    </tr>\n",
       "  </thead>\n",
       "  <tbody>\n",
       "    <tr>\n",
       "      <th>count</th>\n",
       "      <td>100000.000000</td>\n",
       "    </tr>\n",
       "    <tr>\n",
       "      <th>mean</th>\n",
       "      <td>3.529860</td>\n",
       "    </tr>\n",
       "    <tr>\n",
       "      <th>std</th>\n",
       "      <td>1.125674</td>\n",
       "    </tr>\n",
       "    <tr>\n",
       "      <th>min</th>\n",
       "      <td>1.000000</td>\n",
       "    </tr>\n",
       "    <tr>\n",
       "      <th>25%</th>\n",
       "      <td>3.000000</td>\n",
       "    </tr>\n",
       "    <tr>\n",
       "      <th>50%</th>\n",
       "      <td>4.000000</td>\n",
       "    </tr>\n",
       "    <tr>\n",
       "      <th>75%</th>\n",
       "      <td>4.000000</td>\n",
       "    </tr>\n",
       "    <tr>\n",
       "      <th>max</th>\n",
       "      <td>5.000000</td>\n",
       "    </tr>\n",
       "  </tbody>\n",
       "</table>\n",
       "</div>"
      ],
      "text/plain": [
       "              rating\n",
       "count  100000.000000\n",
       "mean        3.529860\n",
       "std         1.125674\n",
       "min         1.000000\n",
       "25%         3.000000\n",
       "50%         4.000000\n",
       "75%         4.000000\n",
       "max         5.000000"
      ]
     },
     "execution_count": 4,
     "metadata": {},
     "output_type": "execute_result"
    }
   ],
   "source": [
    "df.describe()"
   ]
  },
  {
   "cell_type": "markdown",
   "id": "99bb6238-141e-4709-9a64-123ee7a84da8",
   "metadata": {},
   "source": [
    "### The SVD model"
   ]
  },
  {
   "cell_type": "code",
   "execution_count": 5,
   "id": "b1db5699-c29c-4903-933d-a8630cc18285",
   "metadata": {},
   "outputs": [
    {
     "name": "stdout",
     "output_type": "stream",
     "text": [
      "Evaluating RMSE, MAE of algorithm SVD on 5 split(s).\n",
      "\n",
      "                  Fold 1  Fold 2  Fold 3  Fold 4  Fold 5  Mean    Std     \n",
      "RMSE (testset)    0.9395  0.9462  0.9370  0.9265  0.9353  0.9369  0.0064  \n",
      "MAE (testset)     0.7403  0.7472  0.7393  0.7301  0.7367  0.7387  0.0055  \n",
      "Fit time          2.23    2.28    2.22    2.37    2.25    2.27    0.05    \n",
      "Test time         0.39    0.27    0.36    0.31    0.28    0.32    0.05    \n"
     ]
    },
    {
     "data": {
      "text/plain": [
       "{'test_rmse': array([0.93954249, 0.94620622, 0.9370418 , 0.92646098, 0.93531868]),\n",
       " 'test_mae': array([0.74033208, 0.74721057, 0.73933261, 0.73012692, 0.73665542]),\n",
       " 'fit_time': (2.2315869331359863,\n",
       "  2.278301954269409,\n",
       "  2.223738193511963,\n",
       "  2.3737025260925293,\n",
       "  2.2535314559936523),\n",
       " 'test_time': (0.3933284282684326,\n",
       "  0.2685985565185547,\n",
       "  0.3580758571624756,\n",
       "  0.30671262741088867,\n",
       "  0.2760810852050781)}"
      ]
     },
     "execution_count": 5,
     "metadata": {},
     "output_type": "execute_result"
    }
   ],
   "source": [
    "# Initialize the model\n",
    "algo = SVD()\n",
    "\n",
    "# Run 5-fold cross-validation and print results\n",
    "cross_validate(algo, data, measures=['RMSE', 'MAE'], cv=5, verbose=True)"
   ]
  },
  {
   "cell_type": "code",
   "execution_count": 8,
   "id": "ba13ac27-25c6-4356-8ade-400e5b65cb18",
   "metadata": {},
   "outputs": [
    {
     "name": "stdout",
     "output_type": "stream",
     "text": [
      "RMSE: 0.9352\n"
     ]
    },
    {
     "data": {
      "text/plain": [
       "0.9351586338178312"
      ]
     },
     "execution_count": 8,
     "metadata": {},
     "output_type": "execute_result"
    }
   ],
   "source": [
    "# Splitting up the dataset.\n",
    "trainset, testset = train_test_split(data, test_size=.25)\n",
    "\n",
    "# Train the algorithm on the trainset, and predict ratings for the testset\n",
    "algo.fit(trainset)\n",
    "predictions = algo.test(testset)\n",
    "\n",
    "# Then compute RMSE\n",
    "accuracy.rmse(predictions)"
   ]
  },
  {
   "cell_type": "code",
   "execution_count": 6,
   "id": "108d523c-d1d6-4484-a387-e8b6b6643c7f",
   "metadata": {},
   "outputs": [
    {
     "name": "stdout",
     "output_type": "stream",
     "text": [
      "0.9682674369286618\n",
      "{'n_epochs': 20, 'lr_all': 0.01, 'reg_all': 0.6}\n"
     ]
    }
   ],
   "source": [
    "# Set a baseline with a simple grid search\n",
    "param_grid = {'n_epochs': [10, 15, 20],\n",
    "              'lr_all': [0.002, 0.005, 0.01],\n",
    "              'reg_all': [0.6, 0.8, 1.0]}\n",
    "gs = GridSearchCV(SVD, param_grid, measures=['rmse', 'mae'], cv=3)\n",
    "\n",
    "gs.fit(data)\n",
    "\n",
    "# best RMSE score\n",
    "print(gs.best_score['rmse'])\n",
    "\n",
    "# combination of parameters that gave the best RMSE score\n",
    "print(gs.best_params['rmse'])"
   ]
  },
  {
   "cell_type": "code",
   "execution_count": 26,
   "id": "3e481bd1-6a08-4c92-97c5-5a07f528d010",
   "metadata": {},
   "outputs": [
    {
     "name": "stdout",
     "output_type": "stream",
     "text": [
      "RMSE: 0.9630\n"
     ]
    },
    {
     "data": {
      "text/plain": [
       "0.9629902735721497"
      ]
     },
     "execution_count": 26,
     "metadata": {},
     "output_type": "execute_result"
    }
   ],
   "source": [
    "# Initialize the model with the best parameters\n",
    "best_model_SVD = SVD(n_epochs=20, lr_all=0.01, reg_all=0.6)\n",
    "\n",
    "# Train the best_model_SVD on the trainset, and predict ratings for the testset\n",
    "best_model_SVD.fit(trainset)\n",
    "predictions_SVD = best_model_SVD.test(testset)\n",
    "\n",
    "# Then compute RMSE\n",
    "accuracy.rmse(predictions_SVD)"
   ]
  },
  {
   "cell_type": "markdown",
   "id": "1c18aef7-1d20-4101-b2da-4444d64a46bd",
   "metadata": {},
   "source": [
    "### The SVD++ model"
   ]
  },
  {
   "cell_type": "code",
   "execution_count": 10,
   "id": "1c1e0715-814e-4ffe-93c5-4ada1acddf18",
   "metadata": {},
   "outputs": [
    {
     "name": "stdout",
     "output_type": "stream",
     "text": [
      "Evaluating RMSE, MAE of algorithm SVDpp on 5 split(s).\n",
      "\n",
      "                  Fold 1  Fold 2  Fold 3  Fold 4  Fold 5  Mean    Std     \n",
      "RMSE (testset)    0.9293  0.9191  0.9172  0.9130  0.9223  0.9202  0.0055  \n",
      "MAE (testset)     0.7275  0.7187  0.7192  0.7159  0.7261  0.7215  0.0045  \n",
      "Fit time          12.33   12.17   12.14   13.32   12.62   12.52   0.44    \n",
      "Test time         2.37    2.51    2.36    2.55    2.35    2.43    0.09    \n"
     ]
    },
    {
     "data": {
      "text/plain": [
       "{'test_rmse': array([0.92926012, 0.91908997, 0.91718678, 0.9129741 , 0.92226618]),\n",
       " 'test_mae': array([0.72746325, 0.71874564, 0.71924436, 0.71592385, 0.7260769 ]),\n",
       " 'fit_time': (12.333916187286377,\n",
       "  12.171581983566284,\n",
       "  12.136972427368164,\n",
       "  13.322959423065186,\n",
       "  12.621006965637207),\n",
       " 'test_time': (2.3698489665985107,\n",
       "  2.508877754211426,\n",
       "  2.3606884479522705,\n",
       "  2.55305552482605,\n",
       "  2.345254898071289)}"
      ]
     },
     "execution_count": 10,
     "metadata": {},
     "output_type": "execute_result"
    }
   ],
   "source": [
    "# Initialize the model\n",
    "algo_SVDpp = SVDpp()\n",
    "\n",
    "# Run 5-fold cross-validation and print results\n",
    "cross_validate(algo_SVDpp, data, measures=['RMSE', 'MAE'], cv=5, verbose=True)"
   ]
  },
  {
   "cell_type": "code",
   "execution_count": 11,
   "id": "0c777f67-9821-43e6-ad53-e6308e364e79",
   "metadata": {},
   "outputs": [
    {
     "name": "stdout",
     "output_type": "stream",
     "text": [
      "RMSE: 0.9163\n"
     ]
    },
    {
     "data": {
      "text/plain": [
       "0.9163253220884121"
      ]
     },
     "execution_count": 11,
     "metadata": {},
     "output_type": "execute_result"
    }
   ],
   "source": [
    "# Train the algorithm on the trainset, and predict ratings for the testset\n",
    "algo_SVDpp.fit(trainset)\n",
    "predictions = algo_SVDpp.test(testset)\n",
    "\n",
    "# Then compute RMSE\n",
    "accuracy.rmse(predictions)"
   ]
  },
  {
   "cell_type": "code",
   "execution_count": 12,
   "id": "1f8e75eb-93bb-4281-aabc-47f5940cf6cf",
   "metadata": {},
   "outputs": [
    {
     "name": "stdout",
     "output_type": "stream",
     "text": [
      "0.9681102876340139\n",
      "{'n_epochs': 20, 'lr_all': 0.01, 'reg_all': 0.6}\n"
     ]
    }
   ],
   "source": [
    "# Set a baseline with a simple grid search\n",
    "param_grid = {'n_epochs': [10, 15, 20],\n",
    "              'lr_all': [0.002, 0.005, 0.01],\n",
    "              'reg_all': [0.6, 0.8, 1.0]}\n",
    "gs = GridSearchCV(SVDpp, param_grid, measures=['rmse', 'mae'], cv=3)\n",
    "\n",
    "gs.fit(data)\n",
    "\n",
    "# best RMSE score\n",
    "print(gs.best_score['rmse'])\n",
    "\n",
    "# combination of parameters that gave the best RMSE score\n",
    "print(gs.best_params['rmse'])"
   ]
  },
  {
   "cell_type": "code",
   "execution_count": 27,
   "id": "b371fc66-84f6-436b-bc16-99a11e6fb7bd",
   "metadata": {},
   "outputs": [
    {
     "name": "stdout",
     "output_type": "stream",
     "text": [
      "RMSE: 0.9630\n"
     ]
    },
    {
     "data": {
      "text/plain": [
       "0.9629864706119904"
      ]
     },
     "execution_count": 27,
     "metadata": {},
     "output_type": "execute_result"
    }
   ],
   "source": [
    "# Initialize the model with the best parameters\n",
    "best_model_SVDpp = SVDpp(n_epochs=20, lr_all=0.01, reg_all=0.6)\n",
    "\n",
    "# Train the best_model_SVD on the trainset, and predict ratings for the testset\n",
    "best_model_SVDpp.fit(trainset)\n",
    "predictions_SVDpp = best_model_SVDpp.test(testset)\n",
    "\n",
    "# Then compute RMSE\n",
    "accuracy.rmse(predictions_SVDpp)"
   ]
  },
  {
   "cell_type": "markdown",
   "id": "38dcb8dd-4d3a-4269-a914-c06402ffb4a3",
   "metadata": {},
   "source": [
    "### The NMF model"
   ]
  },
  {
   "cell_type": "code",
   "execution_count": 14,
   "id": "54f81cb6-57c3-4efe-9857-d1cf77bde44b",
   "metadata": {},
   "outputs": [
    {
     "name": "stdout",
     "output_type": "stream",
     "text": [
      "Evaluating RMSE, MAE of algorithm NMF on 5 split(s).\n",
      "\n",
      "                  Fold 1  Fold 2  Fold 3  Fold 4  Fold 5  Mean    Std     \n",
      "RMSE (testset)    0.9668  0.9588  0.9618  0.9658  0.9579  0.9622  0.0036  \n",
      "MAE (testset)     0.7576  0.7562  0.7587  0.7580  0.7526  0.7566  0.0022  \n",
      "Fit time          1.16    1.00    0.88    0.90    0.87    0.96    0.11    \n",
      "Test time         0.13    0.06    0.07    0.06    0.06    0.08    0.03    \n"
     ]
    },
    {
     "data": {
      "text/plain": [
       "{'test_rmse': array([0.96678594, 0.95879077, 0.96175923, 0.96583942, 0.95790485]),\n",
       " 'test_mae': array([0.75758156, 0.75624173, 0.7587121 , 0.75795921, 0.75259343]),\n",
       " 'fit_time': (1.1635971069335938,\n",
       "  0.9961662292480469,\n",
       "  0.8784220218658447,\n",
       "  0.8956847190856934,\n",
       "  0.8682370185852051),\n",
       " 'test_time': (0.12999677658081055,\n",
       "  0.06302762031555176,\n",
       "  0.06548380851745605,\n",
       "  0.06292057037353516,\n",
       "  0.06318783760070801)}"
      ]
     },
     "execution_count": 14,
     "metadata": {},
     "output_type": "execute_result"
    }
   ],
   "source": [
    "# Initialize the model\n",
    "algo_NMF = NMF()\n",
    "\n",
    "# Run 5-fold cross-validation and print results\n",
    "cross_validate(algo_NMF, data, measures=['RMSE', 'MAE'], cv=5, verbose=True)"
   ]
  },
  {
   "cell_type": "code",
   "execution_count": 15,
   "id": "1bad9bb7-80f7-4ba7-b086-86203b80494b",
   "metadata": {},
   "outputs": [
    {
     "name": "stdout",
     "output_type": "stream",
     "text": [
      "RMSE: 0.9655\n"
     ]
    },
    {
     "data": {
      "text/plain": [
       "0.965513198459131"
      ]
     },
     "execution_count": 15,
     "metadata": {},
     "output_type": "execute_result"
    }
   ],
   "source": [
    "# Train the algorithm on the trainset, and predict ratings for the testset\n",
    "algo_NMF.fit(trainset)\n",
    "predictions = algo_NMF.test(testset)\n",
    "\n",
    "# Then compute RMSE\n",
    "accuracy.rmse(predictions)"
   ]
  },
  {
   "cell_type": "code",
   "execution_count": 21,
   "id": "9d019579-ca70-4299-8b4e-6f1682b26fe6",
   "metadata": {},
   "outputs": [
    {
     "name": "stdout",
     "output_type": "stream",
     "text": [
      "0.9736098161740974\n",
      "{'n_factors': 15, 'n_epochs': 40, 'lr_bu': 0.002, 'lr_bi': 0.01, 'reg_pu': 0.06, 'reg_qi': 0.06}\n"
     ]
    }
   ],
   "source": [
    "# Set a baseline with a simple grid search\n",
    "param_grid = {\n",
    "    'n_factors': [10, 15, 20],  \n",
    "    'n_epochs': [20, 30, 40],   \n",
    "    'lr_bu': [0.002, 0.005, 0.01], \n",
    "    'lr_bi': [0.002, 0.005, 0.01],  \n",
    "    'reg_pu': [0.02, 0.04, 0.06],  \n",
    "    'reg_qi': [0.02, 0.04, 0.06],   \n",
    "}\n",
    "gs = GridSearchCV(NMF, param_grid, measures=['rmse', 'mae'], cv=3)\n",
    "\n",
    "gs.fit(data)\n",
    "\n",
    "# best RMSE score\n",
    "print(gs.best_score['rmse'])\n",
    "\n",
    "# combination of parameters that gave the best RMSE score\n",
    "print(gs.best_params['rmse'])"
   ]
  },
  {
   "cell_type": "code",
   "execution_count": 30,
   "id": "7dae9a83-a1b2-4862-a3ae-0793ac0b3abd",
   "metadata": {},
   "outputs": [
    {
     "name": "stdout",
     "output_type": "stream",
     "text": [
      "RMSE: 0.9683\n"
     ]
    },
    {
     "data": {
      "text/plain": [
       "0.9682502110524741"
      ]
     },
     "execution_count": 30,
     "metadata": {},
     "output_type": "execute_result"
    }
   ],
   "source": [
    "# Initialize the model with the best parameters\n",
    "best_model_NMF = NMF(n_factors=15, n_epochs=40, lr_bu=0.002, lr_bi=0.01, reg_pu=0.06, reg_qi=0.06)\n",
    "\n",
    "# Train the best_model_SVD on the trainset, and predict ratings for the testset\n",
    "best_model_NMF.fit(trainset)\n",
    "predictions_NMF = best_model_NMF.test(testset)\n",
    "\n",
    "# Then compute RMSE\n",
    "accuracy.rmse(predictions_NMF)"
   ]
  },
  {
   "cell_type": "markdown",
   "id": "1dbae201-1937-40f0-819b-38526deba1c0",
   "metadata": {},
   "source": [
    "### Analysis of the results of the SVD, SVD++ and NMF algorithms with the best parameters"
   ]
  },
  {
   "cell_type": "code",
   "execution_count": 43,
   "id": "898443dc-9785-400e-a41f-d84e506903ba",
   "metadata": {},
   "outputs": [
    {
     "name": "stdout",
     "output_type": "stream",
     "text": [
      "RMSE: 0.9630\n",
      "RMSE: 0.9630\n",
      "RMSE: 0.9683\n",
      "MAE:  0.7752\n",
      "MAE:  0.7752\n",
      "MAE:  0.7611\n"
     ]
    },
    {
     "data": {
      "image/png": "[encoded data removed]",
      "text/plain": [
       "<Figure size 1000x600 with 2 Axes>"
      ]
     },
     "metadata": {},
     "output_type": "display_data"
    }
   ],
   "source": [
    "# Visualization of model results\n",
    "models = ['SVD', 'SVDpp', 'NMF']\n",
    "rmse_scores = [accuracy.rmse(predictions_SVD),\n",
    "               accuracy.rmse(predictions_SVDpp),\n",
    "               accuracy.rmse(predictions_NMF)]\n",
    "mae_scores = [accuracy.mae(predictions_SVD),\n",
    "              accuracy.mae(predictions_SVDpp),\n",
    "              accuracy.mae(predictions_NMF)]\n",
    "\n",
    "# Creating a chart\n",
    "plt.figure(figsize=(10, 6))\n",
    "\n",
    "# Сhart RMSE\n",
    "plt.subplot(1, 2, 1)\n",
    "plt.bar(models, rmse_scores, color='skyblue')\n",
    "plt.title('RMSE by models')\n",
    "plt.xlabel('Models')\n",
    "plt.ylabel('RMSE')\n",
    "plt.ylim(0.9, max(rmse_scores) * 1.02)\n",
    "for i, v in enumerate(rmse_scores):\n",
    "    plt.text(i, v + 0.005, str(round(v, 4)), ha='center')\n",
    "\n",
    "# Сhart MAE\n",
    "plt.subplot(1, 2, 2)\n",
    "plt.bar(models, mae_scores, color='lightgreen')\n",
    "plt.title('MAE by models')\n",
    "plt.xlabel('Models')\n",
    "plt.ylabel('MAE')\n",
    "plt.ylim(0.7, max(mae_scores) * 1.02)\n",
    "for i, v in enumerate(mae_scores):\n",
    "    plt.text(i, v + 0.005, str(round(v, 4)), ha='center')\n",
    "\n",
    "plt.tight_layout()\n",
    "plt.show()"
   ]
  },
  {
   "cell_type": "markdown",
   "id": "ab66dc8d-3e39-4a11-92c9-9ffc19b1fde6",
   "metadata": {},
   "source": [
    "#### Conclusion: the NMF algorithm showed the best results by RMSE, but the worst result by MAE"
   ]
  },
  {
   "cell_type": "code",
   "execution_count": null,
   "id": "4a4d3f8c-6f61-4b90-963e-5e1ba1577d6b",
   "metadata": {},
   "outputs": [],
   "source": []
  }
 ],
 "metadata": {
  "kernelspec": {
   "display_name": "Python 3 (ipykernel)",
   "language": "python",
   "name": "python3"
  },
  "language_info": {
   "codemirror_mode": {
    "name": "ipython",
    "version": 3
   },
   "file_extension": ".py",
   "mimetype": "text/x-python",
   "name": "python",
   "nbconvert_exporter": "python",
   "pygments_lexer": "ipython3",
   "version": "3.10.13"
  }
 },
 "nbformat": 4,
 "nbformat_minor": 5
}
